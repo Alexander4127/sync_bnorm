{
 "metadata": {
  "kernelspec": {
   "language": "python",
   "display_name": "Python 3",
   "name": "python3"
  },
  "language_info": {
   "name": "python",
   "version": "3.10.13",
   "mimetype": "text/x-python",
   "codemirror_mode": {
    "name": "ipython",
    "version": 3
   },
   "pygments_lexer": "ipython3",
   "nbconvert_exporter": "python",
   "file_extension": ".py"
  },
  "kaggle": {
   "accelerator": "nvidiaTeslaT4",
   "dataSources": [],
   "dockerImageVersionId": 30665,
   "isInternetEnabled": true,
   "language": "python",
   "sourceType": "notebook",
   "isGpuEnabled": true
  }
 },
 "nbformat_minor": 4,
 "nbformat": 4,
 "cells": [
  {
   "cell_type": "markdown",
   "source": [
    "# Report\n",
    "\n",
    "### Solution setup\n",
    "\n",
    "- `sequential_print.py`: simple example of `torch.distributed` use.\n",
    "- `syncbn.py`: implemented synchorinzed BatchNorm layer with forward/backward passes.\n",
    "- `test_syncbn.py`: comparison of custom implementation with `nn.SyncBatchNorm`.\n",
    "- `train.py`: net architecture, synchronized training loop.\n",
    "- `metric_accumulation.py`: implemented accuracy metric over dataset accumulation with `torch.distributed.scatter`.\n",
    "- `bn_benchmark.py, training_benchmark.py`: benchmarking for correctness of implemented layers and full training pipeline respectively.\n",
    "- `utils.py`: supporting functions.\n",
    "\n",
    "Several GPU's experiments are sponsored by Kaggle T4 x2."
   ],
   "metadata": {}
  },
  {
   "cell_type": "code",
   "source": [
    "!nvidia-smi topo -m"
   ],
   "metadata": {
    "_uuid": "8f2839f25d086af736a60e9eeb907d3b93b6e0e5",
    "_cell_guid": "b1076dfc-b9ad-4769-8c92-a6c4dae69d19",
    "execution": {
     "iopub.status.busy": "2024-03-03T19:27:56.456422Z",
     "iopub.execute_input": "2024-03-03T19:27:56.456673Z",
     "iopub.status.idle": "2024-03-03T19:27:57.435567Z",
     "shell.execute_reply.started": "2024-03-03T19:27:56.456643Z",
     "shell.execute_reply": "2024-03-03T19:27:57.434482Z"
    },
    "trusted": true
   },
   "execution_count": 1,
   "outputs": [
    {
     "name": "stdout",
     "text": "\t\u001B[4mGPU0\tGPU1\tCPU Affinity\tNUMA Affinity\tGPU NUMA ID\u001B[0m\nGPU0\t X \tPHB\t0-3\t0\t\tN/A\nGPU1\tPHB\t X \t0-3\t0\t\tN/A\n\nLegend:\n\n  X    = Self\n  SYS  = Connection traversing PCIe as well as the SMP interconnect between NUMA nodes (e.g., QPI/UPI)\n  NODE = Connection traversing PCIe as well as the interconnect between PCIe Host Bridges within a NUMA node\n  PHB  = Connection traversing PCIe as well as a PCIe Host Bridge (typically the CPU)\n  PXB  = Connection traversing multiple PCIe bridges (without traversing the PCIe Host Bridge)\n  PIX  = Connection traversing at most a single PCIe bridge\n  NV#  = Connection traversing a bonded set of # NVLinks\n",
     "output_type": "stream"
    }
   ]
  },
  {
   "cell_type": "markdown",
   "source": [
    "### BatchNorm\n",
    "\n",
    "Firstly, we compare custom and library implementation of `SyncBatchNorm`.\n",
    "We compare forward + backward passes time & memory cost and observe that our implementation is faster, but need more memory due to additional variables in forward/backward implementation (used for better code readability). Besides, we can see linear memory dependency on batch size, while time growth is much slower."
   ],
   "metadata": {}
  },
  {
   "cell_type": "code",
   "source": [
    "!python bn_benchmark.py --size=2 --norm_type=custom"
   ],
   "metadata": {
    "execution": {
     "iopub.status.busy": "2024-03-03T18:28:09.402544Z",
     "iopub.execute_input": "2024-03-03T18:28:09.403430Z",
     "iopub.status.idle": "2024-03-03T18:29:01.021634Z",
     "shell.execute_reply.started": "2024-03-03T18:28:09.403394Z",
     "shell.execute_reply": "2024-03-03T18:29:01.020729Z"
    },
    "trusted": true
   },
   "execution_count": 23,
   "outputs": [
    {
     "name": "stdout",
     "text": "Started measuring for BatchNorm type = custom\n| Hidden size | Batch size  | Time (s)    | Memory (Mb)\n| 128         | 32          | 5.738396    | 0.169922    \n| 128         | 64          | 5.782004    | 0.326172    \n| 256         | 32          | 5.651294    | 0.334961    \n| 256         | 64          | 5.856960    | 0.647461    \n| 512         | 32          | 6.138276    | 0.665039    \n| 512         | 64          | 5.958334    | 1.290039    \n| 1024        | 32          | 5.815169    | 1.325195    \n| 1024        | 64          | 5.535275    | 2.575195    \n",
     "output_type": "stream"
    }
   ]
  },
  {
   "cell_type": "code",
   "source": [
    "!python bn_benchmark.py --size=2 --norm_type=lib"
   ],
   "metadata": {
    "execution": {
     "iopub.status.busy": "2024-03-03T18:29:08.763378Z",
     "iopub.execute_input": "2024-03-03T18:29:08.763745Z",
     "iopub.status.idle": "2024-03-03T18:30:00.574061Z",
     "shell.execute_reply.started": "2024-03-03T18:29:08.763714Z",
     "shell.execute_reply": "2024-03-03T18:30:00.572511Z"
    },
    "trusted": true
   },
   "execution_count": 24,
   "outputs": [
    {
     "name": "stdout",
     "text": "Started measuring for BatchNorm type = lib\n| Hidden size | Batch size  | Time (s)    | Memory (Mb)\n| 128         | 32          | 6.340657    | 0.134766    \n| 128         | 64          | 5.681419    | 0.259766    \n| 256         | 32          | 5.724207    | 0.265625    \n| 256         | 64          | 5.523697    | 0.515625    \n| 512         | 32          | 5.881188    | 0.527344    \n| 512         | 64          | 6.135359    | 1.027344    \n| 1024        | 32          | 5.431167    | 1.050781    \n| 1024        | 64          | 5.933679    | 2.050781    \n",
     "output_type": "stream"
    }
   ]
  },
  {
   "cell_type": "markdown",
   "source": [
    "### Time/Memory\n",
    "\n",
    "Secondly, we check the behaviour during the first training epoch. Here we apply batch accumulation with parameter 2. Time and memory costs are similar for both custom and library options."
   ],
   "metadata": {}
  },
  {
   "cell_type": "code",
   "source": [
    "!python training_benchmark.py --norm_type=custom --grad_accum=2 --size=2 --n_epoch=1"
   ],
   "metadata": {
    "execution": {
     "iopub.status.busy": "2024-03-03T18:53:40.771657Z",
     "iopub.execute_input": "2024-03-03T18:53:40.772412Z",
     "iopub.status.idle": "2024-03-03T18:54:01.865086Z",
     "shell.execute_reply.started": "2024-03-03T18:53:40.772380Z",
     "shell.execute_reply": "2024-03-03T18:54:01.863985Z"
    },
    "trusted": true
   },
   "execution_count": 43,
   "outputs": [
    {
     "name": "stdout",
     "text": "Files already downloaded and verified\nFiles already downloaded and verified\nFiles already downloaded and verified\nFiles already downloaded and verified\nLoss: 4.381737594409367, train_acc: 0.05370044757795456\nTraining for BNorm type = custom; Grad Acc = 2; Num epoch = 1\nSkipping val metrics since validation epoch was disabled...\n\nTrain acc: 0.053.\nTime: 16.0187 s.\nMemory: 82.7720 Mb.\n\n",
     "output_type": "stream"
    }
   ]
  },
  {
   "cell_type": "code",
   "source": [
    "!python training_benchmark.py --norm_type=lib --grad_accum=2 --size=2 --n_epoch=1"
   ],
   "metadata": {
    "execution": {
     "iopub.status.busy": "2024-03-03T18:54:01.867076Z",
     "iopub.execute_input": "2024-03-03T18:54:01.867396Z",
     "iopub.status.idle": "2024-03-03T18:54:23.141329Z",
     "shell.execute_reply.started": "2024-03-03T18:54:01.867369Z",
     "shell.execute_reply": "2024-03-03T18:54:23.140378Z"
    },
    "trusted": true
   },
   "execution_count": 44,
   "outputs": [
    {
     "name": "stdout",
     "text": "Files already downloaded and verified\nFiles already downloaded and verified\nFiles already downloaded and verified\nFiles already downloaded and verified\nLoss: 4.382226187859655, train_acc: 0.05274136829406709\nTraining for BNorm type = lib; Grad Acc = 2; Num epoch = 1\nSkipping val metrics since validation epoch was disabled...\n\nTrain acc: 0.053.\nTime: 16.1724 s.\nMemory: 82.7720 Mb.\n\n",
     "output_type": "stream"
    }
   ]
  },
  {
   "cell_type": "markdown",
   "source": [
    "#### Removing grad_accum\n",
    "\n",
    "We have tried to remove grad accumulation to check its influence. We observe higher time spendings. Since the model is slow and `optimizer.step()` does not cost a low on GPU, we suppose that the difference can be caused by rarer calls of `all_reduce` operations in case of `grad_accum = 2`."
   ],
   "metadata": {}
  },
  {
   "cell_type": "code",
   "source": [
    "!python training_benchmark.py --norm_type=custom --size=2 --n_epoch=1"
   ],
   "metadata": {
    "execution": {
     "iopub.status.busy": "2024-03-03T18:54:23.142888Z",
     "iopub.execute_input": "2024-03-03T18:54:23.143300Z",
     "iopub.status.idle": "2024-03-03T18:54:44.897857Z",
     "shell.execute_reply.started": "2024-03-03T18:54:23.143263Z",
     "shell.execute_reply": "2024-03-03T18:54:44.896956Z"
    },
    "trusted": true
   },
   "execution_count": 45,
   "outputs": [
    {
     "name": "stdout",
     "text": "Files already downloaded and verified\nFiles already downloaded and verified\nFiles already downloaded and verified\nFiles already downloaded and verified\nLoss: 4.240081084658728, train_acc: 0.07651054988736691\nTraining for BNorm type = custom; Grad Acc = 1; Num epoch = 1\nSkipping val metrics since validation epoch was disabled...\n\nTrain acc: 0.075.\nTime: 16.7334 s.\nMemory: 82.7720 Mb.\n\n",
     "output_type": "stream"
    }
   ]
  },
  {
   "cell_type": "markdown",
   "source": [
    "### Accuracy\n",
    "\n",
    "Finally, we compare the model performance after several training epochs on validation set. Here we use `accuracy` accumulation  with `dist.scatter`. In addition, we notice that time, memory and final score are approximately equal for both `SyncBatchNorm` implementations."
   ],
   "metadata": {}
  },
  {
   "cell_type": "code",
   "source": [
    "!python training_benchmark.py --norm_type=custom --run_val=True --size=2 --n_epoch=10"
   ],
   "metadata": {
    "execution": {
     "iopub.status.busy": "2024-03-03T19:56:54.890326Z",
     "iopub.execute_input": "2024-03-03T19:56:54.890691Z",
     "iopub.status.idle": "2024-03-03T19:58:50.934905Z",
     "shell.execute_reply.started": "2024-03-03T19:56:54.890662Z",
     "shell.execute_reply": "2024-03-03T19:58:50.933705Z"
    },
    "trusted": true
   },
   "execution_count": 14,
   "outputs": [
    {
     "name": "stdout",
     "text": "Files already downloaded and verified\nFiles already downloaded and verified\nFiles already downloaded and verified\nFiles already downloaded and verified\nRank 0, train_acc: 0.03818, val_acc: 0.1604\nRank 0, train_acc: 0.06962, val_acc: 0.2072\nRank 0, train_acc: 0.08758, val_acc: 0.2437\nRank 0, train_acc: 0.10368, val_acc: 0.2695\nRank 0, train_acc: 0.11568, val_acc: 0.288\nRank 0, train_acc: 0.1266, val_acc: 0.2974\nRank 0, train_acc: 0.13712, val_acc: 0.3175\nRank 0, train_acc: 0.14482, val_acc: 0.3225\nRank 0, train_acc: 0.1526, val_acc: 0.34\nRank 0, train_acc: 0.15996, val_acc: 0.3475\nTraining for BNorm type = custom; Grad Acc = 1; Num epoch = 10\nTrain acc: 0.161.\nVal acc: 0.347.\nTime: 109.5906 s.\nMemory: 82.7720 Mb.\n\n",
     "output_type": "stream"
    }
   ]
  },
  {
   "cell_type": "code",
   "source": [
    "!python training_benchmark.py --norm_type=lib --run_val=True --size=2 --n_epoch=10"
   ],
   "metadata": {
    "execution": {
     "iopub.status.busy": "2024-03-03T19:59:35.754076Z",
     "iopub.execute_input": "2024-03-03T19:59:35.754474Z",
     "iopub.status.idle": "2024-03-03T20:01:33.501878Z",
     "shell.execute_reply.started": "2024-03-03T19:59:35.754442Z",
     "shell.execute_reply": "2024-03-03T20:01:33.500901Z"
    },
    "trusted": true
   },
   "execution_count": 16,
   "outputs": [
    {
     "name": "stdout",
     "text": "Files already downloaded and verified\nFiles already downloaded and verified\nFiles already downloaded and verified\nFiles already downloaded and verified\nRank 0, train_acc: 0.03844, val_acc: 0.1605\nRank 0, train_acc: 0.06938, val_acc: 0.206\nRank 0, train_acc: 0.0873, val_acc: 0.2441\nRank 0, train_acc: 0.10292, val_acc: 0.2653\nRank 0, train_acc: 0.11592, val_acc: 0.2874\nRank 0, train_acc: 0.12546, val_acc: 0.2981\nRank 0, train_acc: 0.13764, val_acc: 0.3167\nRank 0, train_acc: 0.14426, val_acc: 0.3262\nRank 0, train_acc: 0.1524, val_acc: 0.3399\nRank 0, train_acc: 0.15886, val_acc: 0.3481\nTraining for BNorm type = lib; Grad Acc = 1; Num epoch = 10\nTrain acc: 0.160.\nVal acc: 0.348.\nTime: 112.6651 s.\nMemory: 82.7720 Mb.\n\n",
     "output_type": "stream"
    }
   ]
  }
 ]
}
